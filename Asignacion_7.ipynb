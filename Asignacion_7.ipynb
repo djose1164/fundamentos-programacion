{
  "nbformat": 4,
  "nbformat_minor": 0,
  "metadata": {
    "colab": {
      "name": "Asignacion 7.ipynb",
      "provenance": [],
      "authorship_tag": "ABX9TyNyhs7lFnLsyD1tlVrWpwlg",
      "include_colab_link": true
    },
    "kernelspec": {
      "name": "python3",
      "display_name": "Python 3"
    },
    "language_info": {
      "name": "python"
    }
  },
  "cells": [
    {
      "cell_type": "markdown",
      "metadata": {
        "id": "view-in-github",
        "colab_type": "text"
      },
      "source": [
        "<a href=\"https://colab.research.google.com/github/djose1164/fundamentos-programacion/blob/main/Asignacion_7.ipynb\" target=\"_parent\"><img src=\"https://colab.research.google.com/assets/colab-badge.svg\" alt=\"Open In Colab\"/></a>"
      ]
    },
    {
      "cell_type": "markdown",
      "source": [
        "Realizar  un ejercicio con el bucle for que muestre el mensaje :Esta es la seccion de Fundamento de Programacion"
      ],
      "metadata": {
        "id": "7O9m2-PO44Gv"
      }
    },
    {
      "cell_type": "code",
      "execution_count": null,
      "metadata": {
        "colab": {
          "base_uri": "https://localhost:8080/"
        },
        "id": "Ql20bw0v4vV2",
        "outputId": "1f1b6ccb-496f-4654-e6b4-503c3037e8e3"
      },
      "outputs": [
        {
          "output_type": "stream",
          "name": "stdout",
          "text": [
            "Esta es la seccion de Fundamento de Programacion\n"
          ]
        }
      ],
      "source": [
        "for i in [1]:\n",
        "  print(\"Esta es la seccion de Fundamento de Programacion\")"
      ]
    },
    {
      "cell_type": "markdown",
      "source": [
        "\n",
        "Realizar un ejercicio  con el bucle while que muestre los numeros del 1 al 10 y que muestre en cada uno de los numeros el mensaje : estos son los numeros del 1 al 10 en cada despliegue.\n"
      ],
      "metadata": {
        "id": "wMiCFKJE48ag"
      }
    },
    {
      "cell_type": "code",
      "source": [
        "counter = 10\n",
        "i = 1\n",
        "while counter:\n",
        "  print(f\"Estos son los numeros del 1 al 10: {i}\")\n",
        "  i += 1\n",
        "  counter -= 1"
      ],
      "metadata": {
        "colab": {
          "base_uri": "https://localhost:8080/"
        },
        "id": "MymiocJq5UPq",
        "outputId": "c40f9028-54ec-4113-9c43-48e9253cd902"
      },
      "execution_count": null,
      "outputs": [
        {
          "output_type": "stream",
          "name": "stdout",
          "text": [
            "Estos son los numeros del 1 al 10: 1\n",
            "Estos son los numeros del 1 al 10: 2\n",
            "Estos son los numeros del 1 al 10: 3\n",
            "Estos son los numeros del 1 al 10: 4\n",
            "Estos son los numeros del 1 al 10: 5\n",
            "Estos son los numeros del 1 al 10: 6\n",
            "Estos son los numeros del 1 al 10: 7\n",
            "Estos son los numeros del 1 al 10: 8\n",
            "Estos son los numeros del 1 al 10: 9\n",
            "Estos son los numeros del 1 al 10: 10\n"
          ]
        }
      ]
    },
    {
      "cell_type": "markdown",
      "source": [
        "Realizar un ejercicio con el bucle while que muestre los numeros del 1 al 10 y que muestre el mensaje Estos son los numeros del 1 al 10, una sola vez"
      ],
      "metadata": {
        "id": "HuxToa7T48Ao"
      }
    },
    {
      "cell_type": "code",
      "source": [
        "counter = 10\n",
        "i = 1\n",
        "print(\"Estos son los numeros del 1 al 10:\")\n",
        "while counter:\n",
        "  print(f\"-- {i}\")\n",
        "  i += 1\n",
        "  counter -= 1"
      ],
      "metadata": {
        "colab": {
          "base_uri": "https://localhost:8080/"
        },
        "id": "tc9xSMX753zo",
        "outputId": "8fc8b76c-3f29-4d41-eb1d-8aad4227c300"
      },
      "execution_count": null,
      "outputs": [
        {
          "output_type": "stream",
          "name": "stdout",
          "text": [
            "Estos son los numeros del 1 al 10:\n",
            "-- 1\n",
            "-- 2\n",
            "-- 3\n",
            "-- 4\n",
            "-- 5\n",
            "-- 6\n",
            "-- 7\n",
            "-- 8\n",
            "-- 9\n",
            "-- 10\n"
          ]
        }
      ]
    }
  ]
}