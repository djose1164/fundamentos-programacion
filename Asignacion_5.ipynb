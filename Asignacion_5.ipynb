{
  "nbformat": 4,
  "nbformat_minor": 0,
  "metadata": {
    "colab": {
      "name": "Asignacion 5.ipynb",
      "provenance": [],
      "authorship_tag": "ABX9TyPQheZXgcL8BNN0DuDRS/ZG",
      "include_colab_link": true
    },
    "kernelspec": {
      "name": "python3",
      "display_name": "Python 3"
    },
    "language_info": {
      "name": "python"
    }
  },
  "cells": [
    {
      "cell_type": "markdown",
      "metadata": {
        "id": "view-in-github",
        "colab_type": "text"
      },
      "source": [
        "<a href=\"https://colab.research.google.com/github/djose1164/fundamentos-programacion/blob/main/Asignacion_5.ipynb\" target=\"_parent\"><img src=\"https://colab.research.google.com/assets/colab-badge.svg\" alt=\"Open In Colab\"/></a>"
      ]
    },
    {
      "cell_type": "markdown",
      "source": [
        "utilizando la estructura selectivas: if, elif y else\n",
        "\n",
        "Niño menores de 5 años, entran gratis.  Niño de 6 a 12 años pagara un 50% de descuento y de 13 años en adelante es tarifa de adulto, pagara 150 dolares. \n",
        "\n",
        " Se desplegara por pantalla.  Cuantos años tiene? y cualquiera de estas opciones: \n",
        "\n",
        "Recuerden enviar diagrama de flujo\n",
        "\n",
        "Tarifa para niños, gratis.   Tarifa de menores de 12 años , pagara un 50%. Tarifa de adulto, pagara 150 dolares. "
      ],
      "metadata": {
        "id": "JXF90fzXl4lK"
      }
    },
    {
      "cell_type": "code",
      "execution_count": null,
      "metadata": {
        "colab": {
          "base_uri": "https://localhost:8080/"
        },
        "id": "v7rvhlZEjb1u",
        "outputId": "bf1b4fbe-c7c1-4159-a195-74b3e0cfbdc4",
        "cellView": "form"
      },
      "outputs": [
        {
          "output_type": "stream",
          "name": "stdout",
          "text": [
            "\n",
            "Hola! Cuantos años tienes?\n",
            "  1) Menor a 5 años\n",
            "  2) 6 a 12 años\n",
            "  3) Mayor a 13 años\n",
            "Ingrese el numero de la opcion deseada: \n",
            "3\n",
            "La tarifa asciende a un total de US$150\n"
          ]
        }
      ],
      "source": [
        "#@title Codigo\n",
        "TARIFA = 150\n",
        "msg = \"\"\"\n",
        "Hola! Cuantos años tienes?\n",
        "  1) Menor a 5 años\n",
        "  2) 6 a 12 años\n",
        "  3) Mayor a 13 años\n",
        "Ingrese el numero de la opcion deseada: \n",
        "\"\"\"\n",
        "opcion = int(input(msg))\n",
        "if opcion < 1 or opcion > 3:\n",
        "  raise Exception(\"Error! Opcion invalida.\")\n",
        "if opcion == 1:\n",
        "  print(\"La tarifa es gratuita!\")\n",
        "elif opcion == 2:\n",
        "  print(f\"La tarifa con un 50% de descuento aplicada asciende a US${TARIFA/2}\")\n",
        "else:\n",
        "  print(f\"La tarifa asciende a un total de US${TARIFA}\")\n",
        "\n"
      ]
    }
  ]
}