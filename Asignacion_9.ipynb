{
  "nbformat": 4,
  "nbformat_minor": 0,
  "metadata": {
    "colab": {
      "name": "Asignacion 9.ipynb",
      "provenance": [],
      "authorship_tag": "ABX9TyMNFM9dsic/i+GlT9nUsyMi",
      "include_colab_link": true
    },
    "kernelspec": {
      "name": "python3",
      "display_name": "Python 3"
    },
    "language_info": {
      "name": "python"
    }
  },
  "cells": [
    {
      "cell_type": "markdown",
      "metadata": {
        "id": "view-in-github",
        "colab_type": "text"
      },
      "source": [
        "<a href=\"https://colab.research.google.com/github/djose1164/fundamentos-programacion/blob/main/Asignacion_9.ipynb\" target=\"_parent\"><img src=\"https://colab.research.google.com/assets/colab-badge.svg\" alt=\"Open In Colab\"/></a>"
      ]
    },
    {
      "cell_type": "markdown",
      "source": [
        "**Realizar un Menu que muestre Agregar, Modificar y Borrar estudiantes.**"
      ],
      "metadata": {
        "id": "DiVJgzek-U0P"
      }
    },
    {
      "cell_type": "code",
      "execution_count": 43,
      "metadata": {
        "id": "b52tipfY-OaV"
      },
      "outputs": [],
      "source": [
        "estudiante1 = estudiante2 = estudiante3 = None\n",
        "\n",
        "def agregar_estudiante(estudiante):\n",
        "    global estudiante1, estudiante2, estudiante3\n",
        "    if not estudiante1:\n",
        "      estudiante1 = estudiante\n",
        "    elif not estudiante2:\n",
        "      estudiante2 = estudiante\n",
        "    elif not estudiante3:\n",
        "      estudiante3 = estudiante\n",
        "    else:\n",
        "      return print(\"No hay espacio para mas estudiantes.\")\n",
        "    print(\"Estudiante agregado!\")\n",
        "\n"
      ]
    },
    {
      "cell_type": "code",
      "source": [
        "def modificar_estudiante(estudiante_old, estudiante_new):\n",
        "  \"\"\"\n",
        "  Modifica un estudiante existente por uno nuevo.\n",
        "  Parametros:\n",
        "    estudiante_old: Nombre del estudiante a modificar.\n",
        "    estudiante_new: El nombre del nuevo estudiante.\n",
        "  \"\"\"\n",
        "  global estudiante1, estudiante2, estudiante3\n",
        "  modificado = False\n",
        "  if estudiante1 == estudiante_old:\n",
        "    modificado = True\n",
        "    estudiante1 = estudiante_new\n",
        "  elif estudiante2 == estudiante_old:\n",
        "      modificado = True\n",
        "      estudiante2 = estudiante_new\n",
        "  elif estudiante3 == estudiante_old:\n",
        "      modificado = True\n",
        "      estudiante3 = estudiante_new\n",
        "  # Verifica si el estudiante fue modificado sastifactoriamente o no.\n",
        "  if modificado:\n",
        "    print(f\"El estudiante {estudiante_old} ha sido reemplazado por {estudiante_new}.\")\n",
        "  else:\n",
        "    print(f\"El estudiante {estudiante_old} no esta registrado.\")\n"
      ],
      "metadata": {
        "id": "Ef84QsEZVs4V"
      },
      "execution_count": 44,
      "outputs": []
    },
    {
      "cell_type": "code",
      "source": [
        "def borrar_estudiante(estudiante):\n",
        "  global estudiante1, estudiante2, estudiante3\n",
        "  modificado = False\n",
        "  if estudiante1 == estudiante:\n",
        "    modificado = True\n",
        "    estudiante1 = None\n",
        "  elif estudiante2 == estudiante:\n",
        "    modificado = True\n",
        "    estudiante2 = None\n",
        "  elif estudiante3 == estudiante:\n",
        "    modificado = True\n",
        "    estudiante3 = None\n",
        "\n",
        "  if modificado:\n",
        "    print(f\"El estudiante {estudiante} ha sido eliminado!\")\n",
        "  else:\n",
        "    print(f\"El estudiante {estudiante} no esta registrado.\")"
      ],
      "metadata": {
        "id": "ocuTE1cSVyaw"
      },
      "execution_count": 45,
      "outputs": []
    },
    {
      "cell_type": "code",
      "source": [
        "def agregar():\n",
        "  agregar_estudiante(input(\"Ingrese el estudiante a agregar: \"))\n",
        "\n",
        "def modificar():\n",
        "  modificar_estudiante(input(\"Ingrese el estudiante a modificar: \"),\n",
        "                       input(\"Ingrese el nuevo estudiante: \"))\n",
        "def borrar():\n",
        "  borrar_estudiante(input(\"Ingrese el estudiante a ser eliminado: \"))\n",
        "\n",
        "def mostrar():\n",
        "  print(f\"estudiante1: {estudiante1}\\nestudiante2: {estudiante2}\\nestudiante3: {estudiante3}\")"
      ],
      "metadata": {
        "id": "qqV_FRODOe0J"
      },
      "execution_count": 46,
      "outputs": []
    },
    {
      "cell_type": "code",
      "source": [
        "msg = \"\"\"\n",
        "+*-*-*-*-*-*-*-*-*-*-*-*-*-*-*-*-*-*-*-*-*-*-*-*-*-*-*-*-*-*-*-*-*-*-*-*-*-*-*-+\n",
        "|               Sistema Manejador de Estudiantes v1.0                          |\n",
        "|       Con este sistema podras realizar las siguientes funciones:             |\n",
        "|   1) Agregar estudiante.                                                     |\n",
        "|   2) Modificar estudiante.                                                   |\n",
        "|   3) Borrar estudiante.                                                      |\n",
        "|   4) Mostrar estudiantes.                                                    |\n",
        "|   5) Salir.                                                                  |\n",
        "|   Para realizar cualquier comando solo ingresa el numero correspondiente.    |\n",
        "+*-*-*-*-*-*-*-*-*-*-*-*-*-*-*-*-*-*-*-*-*-*-*-*-*-*-*-*-*-*-*-*-*-*-*-*-*-*-*-+\n",
        "\"\"\"\n",
        "print(msg)\n",
        "while True:\n",
        "  opcion = int(input(\"> \"))\n",
        "  if opcion == 1:\n",
        "    agregar()\n",
        "  elif opcion == 2:\n",
        "    modificar()\n",
        "  elif opcion == 3:\n",
        "    borrar()\n",
        "  elif opcion == 4:\n",
        "    mostrar()\n",
        "  elif opcion == 5:\n",
        "    break\n",
        "  else:\n",
        "    print(\"Ups! La opcion eligida no existe\\n\")\n",
        "\n",
        "print(\"Adios!\")"
      ],
      "metadata": {
        "colab": {
          "base_uri": "https://localhost:8080/"
        },
        "id": "ihCL5qVi_7ub",
        "outputId": "ef06d714-244c-4020-8954-318e72163dba"
      },
      "execution_count": 48,
      "outputs": [
        {
          "output_type": "stream",
          "name": "stdout",
          "text": [
            "\n",
            "+*-*-*-*-*-*-*-*-*-*-*-*-*-*-*-*-*-*-*-*-*-*-*-*-*-*-*-*-*-*-*-*-*-*-*-*-*-*-*-+\n",
            "|               Sistema Manejador de Estudiantes v1.0                          |\n",
            "|       Con este sistema podras realizar las siguientes funciones:             |\n",
            "|   1) Agregar estudiante.                                                     |\n",
            "|   2) Modificar estudiante.                                                   |\n",
            "|   3) Borrar estudiante.                                                      |\n",
            "|   4) Mostrar estudiantes.                                                    |\n",
            "|   5) Salir.                                                                  |\n",
            "|   Para realizar cualquier comando solo ingresa el numero correspondiente.    |\n",
            "+*-*-*-*-*-*-*-*-*-*-*-*-*-*-*-*-*-*-*-*-*-*-*-*-*-*-*-*-*-*-*-*-*-*-*-*-*-*-*-+\n",
            "\n",
            "> 1\n",
            "Ingrese el estudiante a agregar: Daniel\n",
            "No hay espacio para mas estudiantes.\n",
            "> 4\n",
            "estudiante1: Daniel\n",
            "estudiante2: Jose\n",
            "estudiante3: Juan\n",
            "> 3\n",
            "Ingrese el estudiante a ser eliminado: Daniel\n",
            "El estudiante Daniel ha sido eliminado!\n",
            "> 4\n",
            "estudiante1: None\n",
            "estudiante2: Jose\n",
            "estudiante3: Juan\n",
            "> 2\n",
            "Ingrese el estudiante a modificar: Juan\n",
            "Ingrese el nuevo estudiante: Pablo\n",
            "El estudiante Juan ha sido reemplazado por Pablo.\n",
            "> 5\n",
            "Adios!\n"
          ]
        }
      ]
    }
  ]
}