{
  "nbformat": 4,
  "nbformat_minor": 0,
  "metadata": {
    "colab": {
      "name": "Asignacion 4.ipynb",
      "provenance": [],
      "authorship_tag": "ABX9TyOsZpf/GEe0Bd6mjwUviqLw",
      "include_colab_link": true
    },
    "kernelspec": {
      "name": "python3",
      "display_name": "Python 3"
    },
    "language_info": {
      "name": "python"
    }
  },
  "cells": [
    {
      "cell_type": "markdown",
      "metadata": {
        "id": "view-in-github",
        "colab_type": "text"
      },
      "source": [
        "<a href=\"https://colab.research.google.com/github/djose1164/fundamentos-programacion/blob/main/Asignacion_4.ipynb\" target=\"_parent\"><img src=\"https://colab.research.google.com/assets/colab-badge.svg\" alt=\"Open In Colab\"/></a>"
      ]
    },
    {
      "cell_type": "code",
      "execution_count": 1,
      "metadata": {
        "id": "frMxTG5Ejtnu",
        "colab": {
          "base_uri": "https://localhost:8080/"
        },
        "outputId": "09f3ee80-ede1-46af-bb5c-d13707e092ed"
      },
      "outputs": [
        {
          "output_type": "stream",
          "name": "stdout",
          "text": [
            "\n",
            "  Buenos dias\n",
            "  Mi nombre es Jose Daniel\n",
            "  Mi matricula es 202010646 y soy de la seccion #18\n",
            "\n"
          ]
        }
      ],
      "source": [
        "\"\"\"\n",
        "Escribira un mensaje que diga:\n",
        "\n",
        "    Buenos dias\n",
        "    Mi nombre es XXXXX\n",
        "    Matricula  xxxxx  y soy de la seccion #... \n",
        "\"\"\"\n",
        "print(\"\"\"\n",
        "  Buenos dias\n",
        "  Mi nombre es Jose Daniel\n",
        "  Mi matricula es 202010646 y soy de la seccion #18\n",
        "\"\"\")"
      ]
    }
  ]
}