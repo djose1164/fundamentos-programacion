{
  "nbformat": 4,
  "nbformat_minor": 0,
  "metadata": {
    "colab": {
      "name": "Presentacion.ipynb",
      "provenance": [],
      "authorship_tag": "ABX9TyPLdtVLhFnlOLWQOzyEckS8",
      "include_colab_link": true
    },
    "kernelspec": {
      "name": "python3",
      "display_name": "Python 3"
    },
    "language_info": {
      "name": "python"
    }
  },
  "cells": [
    {
      "cell_type": "markdown",
      "metadata": {
        "id": "view-in-github",
        "colab_type": "text"
      },
      "source": [
        "<a href=\"https://colab.research.google.com/github/djose1164/fundamentos-programacion/blob/main/Presentacion.ipynb\" target=\"_parent\"><img src=\"https://colab.research.google.com/assets/colab-badge.svg\" alt=\"Open In Colab\"/></a>"
      ]
    },
    {
      "cell_type": "markdown",
      "source": [
        "# Las variables\n",
        "Las variables son espacios en memoria, en las cuales su valores son volatiles, es decir, su valor almacenado puede ser cambiado en cualquier momento de la ejecuccion del programa."
      ],
      "metadata": {
        "id": "uYVqAa98XiOF"
      }
    },
    {
      "cell_type": "markdown",
      "source": [
        "Crea un programa con una variable llamada `max`, esta variable almacenara **el ultimo entero mas grande ingresado** por el usario, y lo imprimira.\n",
        "Por ejemplo, si se tiene el siguente input: 2, 5, 4, 9; el programa debera imprimir lo siguiente por cada entrada: 2, 5, 5, 9"
      ],
      "metadata": {
        "id": "qh4y7t3kYF3m"
      }
    },
    {
      "cell_type": "code",
      "source": [
        "#@title Ejemplo\n",
        "max = 0\n",
        "while True:\n",
        "  actual = int(input(\"Ingrese un entero: \"))\n",
        "  if max < actual:\n",
        "    max = actual\n",
        "  print(max)\n",
        "\n"
      ],
      "metadata": {
        "id": "EQ0Dg0k-X8WL",
        "cellView": "form"
      },
      "execution_count": null,
      "outputs": []
    },
    {
      "cell_type": "markdown",
      "source": [
        "# Las constantes\n",
        "Las constantes no cambian; siempre se mantienen igual. Como se puede observare en los siguentes casos:"
      ],
      "metadata": {
        "id": "FQ0y-h59zCEz"
      }
    },
    {
      "cell_type": "code",
      "source": [
        "#@title Ejemplos constantes\n",
        "DIAS_SEMANA = 7\n",
        "GRAVEDAD = 9.8\n",
        "ALTURA_MESA = 12\n",
        "DISTANCIA_ENTRE_SD_SANTIAGO = 123"
      ],
      "metadata": {
        "cellView": "form",
        "id": "9BrGWpbLy_Q2"
      },
      "execution_count": null,
      "outputs": []
    },
    {
      "cell_type": "markdown",
      "source": [
        "Crea un sistema de verificacion de edad, \n",
        "Si el usario ingresa 18 debera salir en consola un mensaje diciendo \n",
        "  'puedes entrar';\n",
        "De lo contrariousario es menor de edad debe salir un mensaje diciendo \n",
        "  'anda a crecer'."
      ],
      "metadata": {
        "id": "y3VmD4PT0WA1"
      }
    },
    {
      "cell_type": "code",
      "execution_count": null,
      "metadata": {
        "id": "qPCCvxa80U7x"
      },
      "outputs": [],
      "source": [
        "#@title Sistema de verificar edad\n",
        "EDAD_MINIMA = 18\n",
        "age = int(input(\"Hola! Ingrese su edad y luego presione ENTER: \"))\n",
        "if age >= EDAD_MINIMA:\n",
        "  print(\"Puedes entrar.\")\n",
        "else:\n",
        "  print(\"Anda a crecer\")"
      ]
    },
    {
      "cell_type": "markdown",
      "source": [
        "Crea un sistema capaz de calcular el volumen de un cilindro."
      ],
      "metadata": {
        "id": "LshiGVyrW6u7"
      }
    },
    {
      "cell_type": "code",
      "source": [
        "#@title Calculadora de volumen de un cilindro\n",
        "PI = 3.141592\n",
        "r, h = [float(i) for i in input(\"Ingrese el radio y la altura del cilindro: \").split()]\n",
        "v = PI*r**2*h\n",
        "print(f\"El volumen del cilindro es de {v} unidades cubicas.\")"
      ],
      "metadata": {
        "id": "uGRr13-61qeu"
      },
      "execution_count": null,
      "outputs": []
    }
  ]
}