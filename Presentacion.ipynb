{
  "nbformat": 4,
  "nbformat_minor": 0,
  "metadata": {
    "colab": {
      "name": "Presentacion.ipynb",
      "provenance": [],
      "authorship_tag": "ABX9TyOZ4bAXgWfgJUN/mYrbupcD",
      "include_colab_link": true
    },
    "kernelspec": {
      "name": "python3",
      "display_name": "Python 3"
    },
    "language_info": {
      "name": "python"
    }
  },
  "cells": [
    {
      "cell_type": "markdown",
      "metadata": {
        "id": "view-in-github",
        "colab_type": "text"
      },
      "source": [
        "<a href=\"https://colab.research.google.com/github/djose1164/fundamentos-programacion/blob/main/Presentacion.ipynb\" target=\"_parent\"><img src=\"https://colab.research.google.com/assets/colab-badge.svg\" alt=\"Open In Colab\"/></a>"
      ]
    },
    {
      "cell_type": "code",
      "execution_count": null,
      "metadata": {
        "id": "qPCCvxa80U7x"
      },
      "outputs": [],
      "source": [
        "\"\"\"Crea un sistema de verificacion de edad, si el usario ingresa 18 debera salir en\n",
        "consola un mensaje diciendo 'puedes entrar'; si el usario es menor de edad debe\n",
        "salir un mensaje diciendo 'anda a crecer'.\"\"\"\n",
        "\n",
        "age = int(input(\"Hola! Ingrese su edad y luego presione ENTER: \"))\n",
        "if age >= 18:\n",
        "  print(\"Puedes entrar.\")\n",
        "else:\n",
        "  print(\"Anda a crecer\")"
      ]
    },
    {
      "cell_type": "code",
      "source": [
        "\"\"\"Crea un sistema capaz de calcular el volumen de un cilindro.\"\"\"\n",
        "PI = 3.141592\n",
        "r = float(input(\"Ingrese el radio del cilindro: \"))\n",
        "h = float(input(\"Ingrese la altura del cilindro: \"))\n",
        "v = PI*r**2*h\n",
        "print(f\"El volumen del cilindro es de {v} unidades cubicas.\")"
      ],
      "metadata": {
        "id": "uGRr13-61qeu"
      },
      "execution_count": null,
      "outputs": []
    }
  ]
}