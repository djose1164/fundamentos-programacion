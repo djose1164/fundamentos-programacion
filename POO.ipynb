{
  "nbformat": 4,
  "nbformat_minor": 0,
  "metadata": {
    "colab": {
      "name": "POO.ipynb",
      "provenance": [],
      "collapsed_sections": [],
      "authorship_tag": "ABX9TyMY9PLmLkHDsHO34zpJMk39",
      "include_colab_link": true
    },
    "kernelspec": {
      "name": "python3",
      "display_name": "Python 3"
    },
    "language_info": {
      "name": "python"
    }
  },
  "cells": [
    {
      "cell_type": "markdown",
      "metadata": {
        "id": "view-in-github",
        "colab_type": "text"
      },
      "source": [
        "<a href=\"https://colab.research.google.com/github/djose1164/fundamentos-programacion/blob/main/POO.ipynb\" target=\"_parent\"><img src=\"https://colab.research.google.com/assets/colab-badge.svg\" alt=\"Open In Colab\"/></a>"
      ]
    },
    {
      "cell_type": "markdown",
      "source": [
        "# Definicion de clase"
      ],
      "metadata": {
        "id": "IZBQfEAJhKno"
      }
    },
    {
      "cell_type": "code",
      "source": [
        "class Persona:\n",
        "  def __init__(self, nombre, apellido, edad):\n",
        "    self.nombre = nombre\n",
        "    self.apellido = apellido\n",
        "    self.edad = edad\n",
        "\n",
        "  def print_details(self):\n",
        "    print(\n",
        "      f\"Nombre: {self.nombre}\\n\"\n",
        "      f\"Apellido: {self.apellido}\\n\"\n",
        "      f\"Edad: {self.edad}\"\n",
        "    )"
      ],
      "metadata": {
        "id": "Qwalcf1whDRM"
      },
      "execution_count": 49,
      "outputs": []
    },
    {
      "cell_type": "markdown",
      "source": [
        "# Instancia de una clase"
      ],
      "metadata": {
        "id": "N3Cm98hghEhN"
      }
    },
    {
      "cell_type": "code",
      "source": [
        "alguien = Persona(\"Daniel\", \"Victoriano\", 19)\n",
        "alguien.print_details()\n"
      ],
      "metadata": {
        "colab": {
          "base_uri": "https://localhost:8080/"
        },
        "id": "fXwYzgk3hKmc",
        "outputId": "05ed7a9d-7661-46d5-9ae1-3feddc19399f"
      },
      "execution_count": 50,
      "outputs": [
        {
          "output_type": "stream",
          "name": "stdout",
          "text": [
            "Nombre: Daniel\n",
            "Apellido: Victoriano\n",
            "Edad: 19\n"
          ]
        }
      ]
    },
    {
      "cell_type": "markdown",
      "source": [
        "# Encapsulacion\n",
        "En Python no existe la encapsulacion per se, sino hints que le dicen al usario que esta variable es private. Es decir, no es mas que una convencion."
      ],
      "metadata": {
        "id": "4TazMk4oh6o8"
      }
    },
    {
      "cell_type": "code",
      "execution_count": 51,
      "metadata": {
        "id": "28qRFtqggDma"
      },
      "outputs": [],
      "source": [
        "class Persona:\n",
        "  def __init__(self, nombre, apellido, edad):\n",
        "    self._nombre = nombre\n",
        "    self._apellido = apellido\n",
        "    self.__edad = edad\n",
        "\n",
        "  def get_nombre(self):\n",
        "    return self._nombre\n",
        "\n",
        "  def get_apellido(self):\n",
        "    return self._apellido\n",
        "  \n",
        "  def get_edad(self):\n",
        "    return self.__edad\n",
        "\n",
        "  def print_details(self):\n",
        "    print(\n",
        "      f\"Nombre: {self.get_nombre()}\\n\"\n",
        "      f\"Apellido: {self.get_apellido()}\\n\"\n",
        "      f\"Edad: {self.get_edad()}\"\n",
        "    )\n",
        "\n",
        "persona = Persona(\"Daniel\", \"Victoriano\", 19)\n",
        "# print(persona.nombre)\n",
        "# print(persona._nombre)\n",
        "# print(persona.__edad) # -> object._class__variable\n",
        "# print(persona._Persona__edad)"
      ]
    },
    {
      "cell_type": "markdown",
      "source": [
        "# Abstracion\n",
        "Nuestra clase `Persona` contiene un metodo llamado `print_details` el cual imprime los detalles de la persona. La clase y yo tenemos un contracto que cuando yo llame a ese metodo ella me imprimira los detalles.\n",
        "\n",
        "Tambien la clase `Persona` es un metodo de abstraccion, veamos lo siguiente:"
      ],
      "metadata": {
        "id": "nhbexhyRkR9_"
      }
    },
    {
      "cell_type": "code",
      "source": [
        "class Organizacion:\n",
        "  def __init__(self):\n",
        "    self._persona = Persona(\"Juan\", \"Perez\", 19)"
      ],
      "metadata": {
        "id": "l688R0m3lhic"
      },
      "execution_count": 43,
      "outputs": []
    },
    {
      "cell_type": "markdown",
      "source": [
        "# Herencia\n",
        "La herencia en Python, a diferencia de Java puede ser multiple, es decir, se puede herededar de multiples padres."
      ],
      "metadata": {
        "id": "E5zmk5qrmDst"
      }
    },
    {
      "cell_type": "code",
      "source": [
        "class Empleado(Persona):\n",
        "  def __init__(self, nombre, apellido, edad, trabajo):\n",
        "    super().__init__(nombre, apellido, edad)\n",
        "    self._trabajo = trabajo\n",
        "\n",
        "  def print_details(self):\n",
        "    super().print_details()\n",
        "    print(f\"Trabajo: {self._trabajo}\")\n",
        "\n",
        "empleado = Empleado(\"Julio\", \"Gonzalez\", 30, \"Doctor\")\n",
        "empleado.print_details()"
      ],
      "metadata": {
        "colab": {
          "base_uri": "https://localhost:8080/"
        },
        "id": "uqukzNjqmxc3",
        "outputId": "b1de5942-ce5c-4419-e852-bd3050e0e4d1"
      },
      "execution_count": 52,
      "outputs": [
        {
          "output_type": "stream",
          "name": "stdout",
          "text": [
            "Nombre: Julio\n",
            "Apellido: Gonzalez\n",
            "Edad: 30\n",
            "Trabajo: Doctor\n"
          ]
        }
      ]
    },
    {
      "cell_type": "markdown",
      "source": [
        "# Polimorfismo​\n",
        "Polimorfismo es la cualidad de poder responder de distintas formas ante distintos objetos."
      ],
      "metadata": {
        "id": "MipPa5sXpvxH"
      }
    },
    {
      "cell_type": "code",
      "source": [
        "class Deportista(Persona):\n",
        "  def __init__(self, nombre, apellido, edad, deporte):\n",
        "    super().__init__(nombre, apellido, edad)\n",
        "    self._deporte = deporte\n",
        "\n",
        "  def print_details(self):\n",
        "      super().print_details()\n",
        "      print(f\"Deporte:{self._deporte}\")\n",
        "\n",
        "deportista = Deportista(\"Maria\", \"Garcia\", \"25\", \"Atletismo\")\n",
        "for obj in (persona, empleado, deportista):\n",
        "  obj.print_details()\n",
        "  print(\"-----------------\")"
      ],
      "metadata": {
        "colab": {
          "base_uri": "https://localhost:8080/"
        },
        "id": "7PAMjQ5mqCqh",
        "outputId": "a7c11106-d75e-447d-fe63-c8ce54c25f92"
      },
      "execution_count": 55,
      "outputs": [
        {
          "output_type": "stream",
          "name": "stdout",
          "text": [
            "Nombre: Daniel\n",
            "Apellido: Victoriano\n",
            "Edad: 19\n",
            "-----------------\n",
            "Nombre: Julio\n",
            "Apellido: Gonzalez\n",
            "Edad: 30\n",
            "Trabajo: Doctor\n",
            "-----------------\n",
            "Nombre: Maria\n",
            "Apellido: Garcia\n",
            "Edad: 25\n",
            "Deporte:Atletismo\n",
            "-----------------\n"
          ]
        }
      ]
    }
  ]
}