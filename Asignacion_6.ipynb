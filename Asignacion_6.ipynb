{
  "nbformat": 4,
  "nbformat_minor": 0,
  "metadata": {
    "colab": {
      "name": "Asignacion 6.ipynb",
      "provenance": [],
      "authorship_tag": "ABX9TyNnv8HwLlbh+NLcItcKHgAO",
      "include_colab_link": true
    },
    "kernelspec": {
      "name": "python3",
      "display_name": "Python 3"
    },
    "language_info": {
      "name": "python"
    }
  },
  "cells": [
    {
      "cell_type": "markdown",
      "metadata": {
        "id": "view-in-github",
        "colab_type": "text"
      },
      "source": [
        "<a href=\"https://colab.research.google.com/github/djose1164/fundamentos-programacion/blob/main/Asignacion_6.ipynb\" target=\"_parent\"><img src=\"https://colab.research.google.com/assets/colab-badge.svg\" alt=\"Open In Colab\"/></a>"
      ]
    },
    {
      "cell_type": "markdown",
      "source": [
        "Esctructuras de decision \n",
        "\n",
        "1.- Determinar la cantidad de segundos que estan incluidos en el numero de horas, minutos y segundos, ingresados por el usuario.\n"
      ],
      "metadata": {
        "id": "WVxLOrrtuHVW"
      }
    },
    {
      "cell_type": "code",
      "execution_count": null,
      "metadata": {
        "colab": {
          "base_uri": "https://localhost:8080/"
        },
        "id": "q0KnPg7juFpK",
        "outputId": "008dfc48-0ecb-45e4-a898-27ad0272bed5"
      },
      "outputs": [
        {
          "output_type": "stream",
          "name": "stdout",
          "text": [
            "Ingrese el tiempo en el siguiente formatao H M S: 2 40 15\n",
            "El total de secundos en 2:40:15 es de: 9615\n"
          ]
        }
      ],
      "source": [
        "hours, minutes, seconds = [int(i) for i in input(\"Ingrese el tiempo en el\" \n",
        "                                                 \" siguiente formatao H M S: \").split()]\n",
        "total_seconds = 0\n",
        "if hours:\n",
        "  total_seconds += hours*60*60\n",
        "if minutes:\n",
        "  total_seconds += minutes*60\n",
        "if seconds:\n",
        "  total_seconds += seconds\n",
        "print(f\"El total de secundos en {hours}:{minutes}:{seconds} es de: {total_seconds}\")"
      ]
    },
    {
      "cell_type": "markdown",
      "source": [
        "2.-Determinar la cantidad a pagar por el cliente en un establecimiento comercial, comprando un producto X que tiene los siguientes descuento.\n",
        "\n",
        "    De 2 a 4 libras, 5% descuento\n",
        "    De 4.1 a 6 libras, 10% de descuento\n",
        "    De 6.1 a 10  libras, 15% descuento\n",
        "    De 10.1 a 15 libras, 20% de descuento"
      ],
      "metadata": {
        "id": "gNHVzW1I4cwL"
      }
    },
    {
      "cell_type": "code",
      "source": [
        "msg = \"\"\"\n",
        "+-+-+-+-+-+-++-+-+-+-+-+-++-+-+-+-+-+-++-+-+-+-+-+-+-+-+-+-+-+-+-+\n",
        "|          Hola, bienvenido al Colmado La NASA!                  |        \n",
        "| La libra de habichuelas esta a RD$60, cuantas desea?           |\n",
        "+-+-+-+-+-+-++-+-+-+-+-+-++-+-+-+-+-+-++-+-+-+-+-+-+-+-+-+-+-+-+-+\n",
        "> Ingrese la cantidad de libras: \"\"\"\n",
        "precio = 60.0\n",
        "despedida = \"Gracias por preferirnos!\"\n",
        "libras = float(input(msg))\n",
        "total = libras*precio\n",
        "print(\"==================================================================\")\n",
        "if libras >= 2 and libras <= 4:\n",
        "  total *= .95\n",
        "  print(f\"Tu total, con un 5% de descuento aplicado, asciende a RD${total:.3f}.\")\n",
        "elif libras >= 4.1 and libras <= 6:\n",
        "  total *= .90\n",
        "  print(f\"Tu total, con un 10% de descuento aplicado, asciende a RD${total:.3f}.\")\n",
        "elif libras >= 6.1 and libras <= 10:\n",
        "  total *= .85\n",
        "  print(f\"Tu total, con un 15% de descuento aplicado, asciende a RD${total:.3f}.\")\n",
        "else:\n",
        "  total *= .80\n",
        "  print(f\"Tu total, con un 20% de descuento aplicado, asciende a RD${total:.3f}.\")\n",
        "print(\"==================================================================\")\n",
        "print(despedida)"
      ],
      "metadata": {
        "colab": {
          "base_uri": "https://localhost:8080/"
        },
        "id": "2OfC4Agz4e2j",
        "outputId": "acffe450-008b-4be8-b3b2-15779cd0fd23"
      },
      "execution_count": null,
      "outputs": [
        {
          "output_type": "stream",
          "name": "stdout",
          "text": [
            "\n",
            "+-+-+-+-+-+-++-+-+-+-+-+-++-+-+-+-+-+-++-+-+-+-+-+-+-+-+-+-+-+-+-+\n",
            "|          Hola, bienvenido al Colmado La NASA!                  |        \n",
            "| La libra de habichuelas esta a RD$60, cuantas desea?           |\n",
            "+-+-+-+-+-+-++-+-+-+-+-+-++-+-+-+-+-+-++-+-+-+-+-+-+-+-+-+-+-+-+-+\n",
            "> Ingrese la cantidad de libras: 6.5\n",
            "==================================================================\n",
            "Tu total, con un 15% de descuento aplicado, asciende a RD$331.500.\n",
            "==================================================================\n",
            "Gracias por preferirnos!\n"
          ]
        }
      ]
    }
  ]
}